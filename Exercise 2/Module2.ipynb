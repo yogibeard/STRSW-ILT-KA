{
 "cells": [
  {
   "cell_type": "markdown",
   "metadata": {},
   "source": [
    "# Module 2: Pod Management  \n",
    "## Exercise 1:  Managing Pods and Services \n",
    "\n",
    "\n",
    "**Objectives**\n",
    "\n",
    "This exercise focuses on enabling you to do the following:\n",
    "- Deploy a pod to the Kubernetes cluster\n",
    "- Create a test namespace\n",
    "- Create a single-container pod\n",
    "- Create a multicontainer pod\n",
    "- Create a service for the multicontainer pod\n",
    "- Use imperative commands to create a pod and a service\n",
    "- Use labels and selectors"
   ]
  },
  {
   "cell_type": "markdown",
   "metadata": {},
   "source": [
    "**Exercise Equipment**\n",
    "\n",
    "In this exercise, you use the following systems.\n",
    "\n",
    "| System                  | Host Name   | IP Addresses   | User Name (case sensitive) | Password  |\n",
    "|-------------------------|-------------|----------------|----------------------------|-----------|\n",
    "| Linux Mint 20           | jumphost    | 192.168.0.5    | user                       | Netapp1!  |\n"
   ]
  },
  {
   "cell_type": "markdown",
   "metadata": {},
   "source": [
    "##### Task 1: Deploy a Pod to the Kubernetes Cluster\n",
    "This activity demonstrates how to deploy a preconfigured pod within the Kubernetes cluster and how to delete the pod"
   ]
  },
  {
   "cell_type": "markdown",
   "metadata": {},
   "source": [
    "Display a list of the Kubernetes cluster's namespaces, which administratively divide cluster\n",
    "resources so that multiple teams, projects, and users can share those resources:\n"
   ]
  },
  {
   "cell_type": "code",
   "execution_count": null,
   "metadata": {
    "vscode": {
     "languageId": "shellscript"
    }
   },
   "outputs": [],
   "source": [
    "kubectl get namespaces\n"
   ]
  },
  {
   "cell_type": "markdown",
   "metadata": {},
   "source": [
    "---"
   ]
  },
  {
   "cell_type": "markdown",
   "metadata": {},
   "source": [
    "Pods that do not have a namespace deploy and run in the user’s default namespace.\n",
    "\n",
    "Use`kubectl config view` to determine your default namespace.\n"
   ]
  },
  {
   "cell_type": "code",
   "execution_count": null,
   "metadata": {
    "vscode": {
     "languageId": "shellscript"
    }
   },
   "outputs": [],
   "source": [
    "kubectl config view"
   ]
  },
  {
   "cell_type": "markdown",
   "metadata": {},
   "source": [
    "---"
   ]
  },
  {
   "cell_type": "markdown",
   "metadata": {},
   "source": [
    "\n",
    "You can run the `kubectl` command in your integrated development environment\n",
    "(IDE) terminal or on any node within your Kubernetes cluster.  \n",
    "\n",
    "You can also get the same information visually from the Kubernetes extension within your IDE.   \n",
    "The steps in this task use the `kubectl` command, but how you run the command is up to you.\n",
    "\n",
    "---\n"
   ]
  },
  {
   "cell_type": "markdown",
   "metadata": {},
   "source": [
    "\n",
    "List the namespaces for all the pods that run on the cluster:\n"
   ]
  },
  {
   "cell_type": "code",
   "execution_count": null,
   "metadata": {
    "vscode": {
     "languageId": "shellscript"
    }
   },
   "outputs": [],
   "source": [
    "kubectl get pods --all-namespaces\n"
   ]
  },
  {
   "cell_type": "markdown",
   "metadata": {},
   "source": [
    "Most of the listed pods are associated with the *kube-system* namespace.  \n",
    "These pods represent the services that Kubernetes creates to support its own operation.  \n",
    "\n",
    "---"
   ]
  },
  {
   "cell_type": "markdown",
   "metadata": {},
   "source": [
    "\n",
    "In your IDE, navigate to the Exercise 2 folder."
   ]
  },
  {
   "cell_type": "markdown",
   "metadata": {},
   "source": [
    "Inspect the *exercise2task1.yaml* file and review the following attributes:  \n",
    "  - **namespace**: This entry indicates that this configuration is for the pod's default namespace.\n",
    "\n",
    "  - **containers**: This section specifies that this pod only runs a single container.\n",
    "  \n",
    "  - **image**: This entry indicates that the container uses the *alpine3:2* image. Alpine is a lightweight, security-optimized Linux distribution that you can use as a foundational container image to help you create other containers.\n",
    "  \n",
    "  - **command**: This section indicates the command that the container executes when it starts, which, in this case, is to sleep for 60 minutes.\n",
    "  \n",
    "  - **restartPolicy**: This entry is set to Always. This setting means that Kubernetes should automatically restart the container if something happens to the container (for example, if the process inside the container crashes).\n",
    "\n",
    "  <details>\n",
    "  <summary>\n",
    "  exercise2task1.yaml\n",
    "  </summary>\n",
    "\n",
    "  [exercise2task1.yaml](./exercise2task1.yaml)\n",
    "\n",
    "```yaml\n",
    "apiVersion: v1\n",
    "kind: Pod\n",
    "metadata:\n",
    "  name: alpine\n",
    "  namespace: default\n",
    "spec:\n",
    "  containers:\n",
    "  - image: alpine:3.19.1\n",
    "    imagePullPolicy: IfNotPresent\n",
    "    command:\n",
    "      - /bin/sh\n",
    "      - \"-c\"\n",
    "      - \"sleep 60m\"  \n",
    "    name: alpine\n",
    "  restartPolicy: Always\n",
    "```\n",
    "---  \n"
   ]
  },
  {
   "cell_type": "markdown",
   "metadata": {},
   "source": [
    "---\n",
    "\n",
    "When this exercise guide refers to a specific entry in a YAML file, the guide uses the\n",
    "“.” character to distinguish the block (that is, indentation) levels in the YAML output.\n",
    "\n",
    "\n",
    "For example, in the YAML file that you examined in this step, \n",
    "\n",
    "“metadata.name” refers \n",
    "\n",
    "to the “name” property inside the “metadata” block.\n",
    "\n",
    "```yaml\n",
    "metadata:\n",
    "  name:\n",
    "```\n",
    "\n",
    "<table>\n",
    "\n",
    "<tr>\n",
    "\n",
    "<td>\n",
    "\n",
    "For example,\n",
    "\n",
    "</td>\n",
    "\n",
    "<td>\n",
    "\n",
    "would be written as, in a more compact Properties format:\n",
    "\n",
    "</td>\n",
    "\n",
    "</tr>\n",
    "\n",
    "<tr>\n",
    "     \n",
    "<td>\n",
    "\n",
    "```yaml\n",
    "apiVersion: v1\n",
    "kind: Pod\n",
    "metadata:\n",
    "  name: example-pod\n",
    "spec:\n",
    "  containers:\n",
    "    - name: example-container\n",
    "      image: nginx\n",
    "      ports:\n",
    "        - containerPort: 80\n",
    "        - containerPort: 443\n",
    "      env:\n",
    "        - name: ENV_VAR_1\n",
    "          value: value1\n",
    "        - name: ENV_VAR_2\n",
    "          value: value2\n",
    "      volumeMounts:\n",
    "        - name: volume1\n",
    "          mountPath: /path1\n",
    "        - name: volume2\n",
    "          mountPath: /path2\n",
    "\n",
    "```\n",
    "\n",
    "</td>\n",
    "\n",
    "<td>\n",
    "\n",
    "\n",
    "```\n",
    "apiVersion=v1\n",
    "kind=Pod\n",
    "metadata.name=example-pod\n",
    "spec.containers.1.name=example-container\n",
    "spec.containers.1.image=nginx\n",
    "spec.containers.1.ports.1.containerPort=80\n",
    "spec.containers.1.ports.2.containerPort=443\n",
    "spec.containers.1.env.1.name=ENV_VAR_1\n",
    "spec.containers.1.env.1.value=value1\n",
    "spec.containers.1.env.2.name=ENV_VAR_2\n",
    "spec.containers.1.env.2.value=value2\n",
    "spec.containers.1.volumeMounts.1.name=volume1\n",
    "spec.containers.1.volumeMounts.1.mountPath=/path1\n",
    "spec.containers.1.volumeMounts.2.name=volume2\n",
    "spec.containers.1.volumeMounts.2.mountPath=/path2\n",
    "```\n",
    "</td>\n",
    "\n",
    "</tr>\n",
    "\n",
    "</table>\n",
    "\n",
    "---"
   ]
  },
  {
   "cell_type": "markdown",
   "metadata": {},
   "source": [
    "Open the file [exercise2task1.yaml](./exercise2task1.yaml) by clicking on the hyperlink.  \n",
    "\n",
    "Position your cursor over the wavy lines under the container key. \n",
    "\n",
    "The IDE reports a potential problem with your YAML: \n",
    "\n",
    "One or more containers do not have resource limits - this could starve other processes.\n",
    "\n",
    "\n",
    "Correct this error and save it as **exercise2task1mod.yaml**\n",
    "\n",
    "(see Exercise 1’s [exercise1task4.yaml](../Exercise%201/exercise1task4.yaml) file for a hint).\n",
    "\n",
    "---"
   ]
  },
  {
   "cell_type": "markdown",
   "metadata": {},
   "source": [
    "Instruct Kubernetes to launch a new pod from the file and verify the status:\n"
   ]
  },
  {
   "cell_type": "code",
   "execution_count": null,
   "metadata": {
    "vscode": {
     "languageId": "shellscript"
    }
   },
   "outputs": [],
   "source": [
    "\n",
    "kubectl create -f exercise2task1mod.yaml\n"
   ]
  },
  {
   "cell_type": "markdown",
   "metadata": {},
   "source": [
    "---\n"
   ]
  },
  {
   "cell_type": "markdown",
   "metadata": {},
   "source": [
    "\n",
    "You can run this command through the terminal window (```CTRL+` ```) if you navigate to the [YAML\n",
    "file's location](./exercise2task1mod.yaml) or provide the complete file path.\n",
    "\n",
    "You can also run the create operation if you use \n",
    "\n",
    "`Ctrl-Shift-P` (`Cmd-Shift P` on a Mac),\n",
    "\n",
    "**or** \n",
    "\n",
    "select **View> Command Palette**, and then enter **Kubernetes: Create**.\n",
    "\n",
    "---\n"
   ]
  },
  {
   "cell_type": "markdown",
   "metadata": {},
   "source": [
    "\n",
    "Verify that the alpine pod is running:\n"
   ]
  },
  {
   "cell_type": "code",
   "execution_count": null,
   "metadata": {
    "vscode": {
     "languageId": "shellscript"
    }
   },
   "outputs": [],
   "source": [
    "\n",
    "kubectl get pods -n default\n"
   ]
  },
  {
   "cell_type": "markdown",
   "metadata": {},
   "source": [
    "If you use the Kubernetes extension in the IDE, you might need to click the refresh\n",
    "button to see the running pod.\n",
    "\n",
    " Make sure you also change to the **default** namespace.\n",
    "\n",
    " ---\n",
    " \n"
   ]
  },
  {
   "cell_type": "markdown",
   "metadata": {},
   "source": [
    "Review the detailed information about the newly created pod:\n"
   ]
  },
  {
   "cell_type": "code",
   "execution_count": null,
   "metadata": {
    "vscode": {
     "languageId": "shellscript"
    }
   },
   "outputs": [],
   "source": [
    "\n",
    "kubectl describe pod alpine\n"
   ]
  },
  {
   "cell_type": "markdown",
   "metadata": {},
   "source": [
    "---\n",
    "\n",
    "To get a **describe** output of a running pod within the Kubernetes IDE extension, right-click\n",
    "the running pod and select **Describe**.\n",
    "\n",
    "---\n"
   ]
  },
  {
   "cell_type": "markdown",
   "metadata": {},
   "source": [
    "The **describe** command returns a substantial amount of information about the\n",
    "containers in the pod.\n",
    "\n",
    "\n",
    "This information includes \n",
    "  - the internal IP addresses, \n",
    "  \n",
    "  - the nodes that the pod uses for execution, and \n",
    "  \n",
    "  - an event log that pertains to the containers. \n",
    "\n",
    "If any errors occur during container instantiation, the output’s Events section also lists\n",
    "the errors.\n",
    "\n",
    "---"
   ]
  },
  {
   "cell_type": "markdown",
   "metadata": {},
   "source": [
    "Destroy the pod and verify the pod’s deletion by periodically querying the pod status \n",
    "\n",
    "(this operation might take up to 60 seconds to finish):\n"
   ]
  },
  {
   "cell_type": "code",
   "execution_count": null,
   "metadata": {
    "vscode": {
     "languageId": "shellscript"
    }
   },
   "outputs": [],
   "source": [
    "kubectl delete pod alpine\n"
   ]
  },
  {
   "cell_type": "code",
   "execution_count": null,
   "metadata": {
    "vscode": {
     "languageId": "shellscript"
    }
   },
   "outputs": [],
   "source": [
    "kubectl get pods\n",
    "\n",
    "sleep 20\n",
    "\n",
    "kubectl get pods\n",
    "\n",
    "sleep 20\n",
    "\n",
    "kubectl get pods\n"
   ]
  },
  {
   "cell_type": "markdown",
   "metadata": {},
   "source": [
    "---\n",
    "\n",
    "To delete a running pod within the Kubernetes IDE extension, right-click the running pod and select **Delete** or **Delete Now**.\n",
    "\n",
    "---"
   ]
  },
  {
   "cell_type": "markdown",
   "metadata": {},
   "source": [
    "##### Task 2: Create a Test Namespace\n",
    "\n",
    "In this task, you create and work with a namespace.\n",
    "\n",
    "\n",
    "Create a namespace:\n"
   ]
  },
  {
   "cell_type": "code",
   "execution_count": null,
   "metadata": {
    "vscode": {
     "languageId": "shellscript"
    }
   },
   "outputs": [],
   "source": [
    "kubectl create namespace test\n"
   ]
  },
  {
   "cell_type": "markdown",
   "metadata": {},
   "source": [
    "---\n",
    "\n",
    "Verify the namespace:\n"
   ]
  },
  {
   "cell_type": "code",
   "execution_count": null,
   "metadata": {
    "vscode": {
     "languageId": "shellscript"
    }
   },
   "outputs": [],
   "source": [
    "kubectl get ns\n"
   ]
  },
  {
   "cell_type": "markdown",
   "metadata": {},
   "source": [
    "------\n",
    "\n",
    "Configure your current context to use the test namespace as the primary namespace:\n"
   ]
  },
  {
   "cell_type": "code",
   "execution_count": null,
   "metadata": {
    "vscode": {
     "languageId": "shellscript"
    }
   },
   "outputs": [],
   "source": [
    "kubectl config set-context --current --namespace=test\n"
   ]
  },
  {
   "cell_type": "markdown",
   "metadata": {},
   "source": [
    "\n",
    "---\n",
    "Verify the change:\n"
   ]
  },
  {
   "cell_type": "code",
   "execution_count": null,
   "metadata": {
    "vscode": {
     "languageId": "shellscript"
    }
   },
   "outputs": [],
   "source": [
    "kubectl config view\n"
   ]
  },
  {
   "cell_type": "markdown",
   "metadata": {},
   "source": [
    "Instantiate a pod:\n",
    "\n",
    "<details>\n",
    "<summary>\n",
    "exercise2task2.yaml\n",
    "</summary>\n",
    "\n",
    "[exercise2task2.yaml](./exercise2task2.yaml)\n",
    "\n",
    "```yaml\n",
    "apiVersion: v1\n",
    "kind: Pod\n",
    "metadata:\n",
    "  name: webserver\n",
    "spec:\n",
    "  containers:\n",
    "  - name: app\n",
    "    image: httpd:2.4.54\n",
    "    imagePullPolicy: IfNotPresent\n",
    "    ports:\n",
    "    - containerPort: 80\n",
    "    resources:\n",
    "      requests:\n",
    "        memory: \"64Mi\"\n",
    "        cpu: \"250m\"\n",
    "      limits:\n",
    "        memory: \"128Mi\"\n",
    "        cpu: \"500m\"\n",
    "\n",
    "```"
   ]
  },
  {
   "cell_type": "code",
   "execution_count": null,
   "metadata": {
    "vscode": {
     "languageId": "shellscript"
    }
   },
   "outputs": [],
   "source": [
    "kubectl apply -f exercise2task2.yaml\n"
   ]
  },
  {
   "cell_type": "markdown",
   "metadata": {},
   "source": [
    "Answer the following questions:\n",
    "\n",
    "In which namespace was the pod created? Why?\n",
    "\n"
   ]
  },
  {
   "cell_type": "markdown",
   "metadata": {},
   "source": []
  },
  {
   "cell_type": "code",
   "execution_count": null,
   "metadata": {
    "vscode": {
     "languageId": "shellscript"
    }
   },
   "outputs": [],
   "source": [
    "echo \"default namespace\"\n",
    "echo \"=================\"\n",
    "kubectl -n default get pods\n",
    "\n",
    "echo \" \"\n",
    "echo \"test namespace\"\n",
    "echo \"==============\"\n",
    "kubectl -n test get pods\n",
    "\n"
   ]
  },
  {
   "cell_type": "markdown",
   "metadata": {},
   "source": [
    "Delete the webserver pod.\n",
    "\n"
   ]
  },
  {
   "cell_type": "code",
   "execution_count": null,
   "metadata": {
    "vscode": {
     "languageId": "shellscript"
    }
   },
   "outputs": [],
   "source": [
    "kubectl delete pod webserver"
   ]
  },
  {
   "cell_type": "markdown",
   "metadata": {},
   "source": [
    "---\n",
    "Delete the test namespace.\n"
   ]
  },
  {
   "cell_type": "code",
   "execution_count": null,
   "metadata": {
    "vscode": {
     "languageId": "shellscript"
    }
   },
   "outputs": [],
   "source": [
    "kubectl delete ns test"
   ]
  },
  {
   "cell_type": "markdown",
   "metadata": {},
   "source": [
    "---\n",
    "\n",
    "Set your context to use the default namespace as the primary namespace:\n"
   ]
  },
  {
   "cell_type": "code",
   "execution_count": null,
   "metadata": {
    "vscode": {
     "languageId": "shellscript"
    }
   },
   "outputs": [],
   "source": [
    "kubectl config set-context --current --namespace=default\n",
    "\n"
   ]
  },
  {
   "cell_type": "markdown",
   "metadata": {},
   "source": [
    "---\n",
    "\n",
    "Verify the change:\n"
   ]
  },
  {
   "cell_type": "code",
   "execution_count": null,
   "metadata": {
    "vscode": {
     "languageId": "shellscript"
    }
   },
   "outputs": [],
   "source": [
    "\n",
    "kubectl config view\n"
   ]
  },
  {
   "cell_type": "markdown",
   "metadata": {},
   "source": [
    "---"
   ]
  },
  {
   "cell_type": "markdown",
   "metadata": {},
   "source": [
    "##### Task 3: Create a Single-Container Pod\n",
    "\n",
    "\n",
    "In this task, you familiarize yourself with the YAML syntax, create a single-container definition file, and\n",
    "instantiate the pod.\n",
    "\n",
    "---\n"
   ]
  },
  {
   "cell_type": "markdown",
   "metadata": {},
   "source": [
    "The following steps are not completely guided; you must look for specific information\n",
    "to create your own YAML files. \n",
    "\n",
    "You create three different YAML files during this task.\n",
    "\n",
    "\n",
    "To search for a specific public container image, use the Docker hub.\n",
    "\n",
    "--- \n",
    "\n",
    "Create a simple YAML file in your IDE that creates a single-container pod running a web\n",
    "server:\n",
    "  - Name of the file: **exercise2Task3.yaml**\n",
    "  - Pod name: **nginx-pod**\n",
    "  - Namespace: **default**\n",
    "  - Container name: **nginx**\n",
    "  - Container image: **nginx:1.25-alpine-slim**\n",
    "\n",
    "Optionally, add resource limits.\n",
    "\n",
    "---\n",
    "\n"
   ]
  },
  {
   "cell_type": "markdown",
   "metadata": {},
   "source": [
    "\n",
    "\n",
    "After you create the YAML file, save it.\n",
    "\n",
    "If you create this YAML file without any IDE assistance, use the **dry-run** option to parse the file for syntax errors, without applying any changes:\n"
   ]
  },
  {
   "cell_type": "code",
   "execution_count": null,
   "metadata": {
    "vscode": {
     "languageId": "shellscript"
    }
   },
   "outputs": [],
   "source": [
    "\n",
    "kubectl create --dry-run=client --output=json -f exercise2task3.yaml\n"
   ]
  },
  {
   "cell_type": "markdown",
   "metadata": {},
   "source": [
    "---\n"
   ]
  },
  {
   "cell_type": "markdown",
   "metadata": {},
   "source": [
    "\n",
    "To monitor the process, open another terminal on your jumphost and run\n",
    "the following command:\n",
    "\n",
    "Use Ctrl-C to exit the command.\n",
    "\n",
    "If running watch in the Jupyter Notebook Cell, you will need to click on the stop button on the left of the cell."
   ]
  },
  {
   "cell_type": "code",
   "execution_count": null,
   "metadata": {
    "vscode": {
     "languageId": "shellscript"
    }
   },
   "outputs": [],
   "source": [
    "\n",
    "\n",
    "watch kubectl get pods -n default\n"
   ]
  },
  {
   "cell_type": "markdown",
   "metadata": {},
   "source": [
    "---\n",
    "\n",
    "Send the file to the scheduler to create your container and pod:\n"
   ]
  },
  {
   "cell_type": "code",
   "execution_count": null,
   "metadata": {
    "vscode": {
     "languageId": "shellscript"
    }
   },
   "outputs": [],
   "source": [
    "kubectl create -f exercise2task3.yaml\n"
   ]
  },
  {
   "cell_type": "markdown",
   "metadata": {},
   "source": [
    "--- \n",
    "\n",
    "After you create the pod, check the detailed output:\n"
   ]
  },
  {
   "cell_type": "code",
   "execution_count": null,
   "metadata": {
    "vscode": {
     "languageId": "shellscript"
    }
   },
   "outputs": [],
   "source": [
    "kubectl describe pod nginx-pod\n"
   ]
  },
  {
   "cell_type": "markdown",
   "metadata": {},
   "source": [
    "--- \n",
    "\n",
    "Destroy the pod:\n"
   ]
  },
  {
   "cell_type": "code",
   "execution_count": null,
   "metadata": {
    "vscode": {
     "languageId": "shellscript"
    }
   },
   "outputs": [],
   "source": [
    "kubectl delete pod nginx-pod"
   ]
  },
  {
   "cell_type": "markdown",
   "metadata": {},
   "source": [
    "---"
   ]
  },
  {
   "cell_type": "markdown",
   "metadata": {},
   "source": [
    "\n",
    "##### Task 4: Create a Multicontainer Pod\n",
    "\n",
    "Create a multicontainer pod that looks like the following illustration:\n",
    "\n",
    "![Task4 Image](../image.png)\n",
    "\n",
    "\n",
    "\n"
   ]
  },
  {
   "cell_type": "markdown",
   "metadata": {},
   "source": [
    "Create a YAML file named **exercise2task4.yaml** that creates a multicontainer pod running a webserver and a repository:\n",
    "     \n",
    "```yaml\n",
    "     Pod name: multi\n",
    "     Namespace: default\n",
    "     Labels in the metadata key: app: webapp\n",
    "     Volumes in the spec key:\n",
    "       volumes:\n",
    "        - name: html\n",
    "          emptyDir: {}\n",
    "     First container name: frontend\n",
    "     First container image: nginx:1.25-alpine-slim\n",
    "     First container volume mount:\n",
    "       volumeMounts:\n",
    "       - name: html\n",
    "         mountPath: /usr/share/nginx/html\n",
    "     Second container name: backend\n",
    "     Second container image: debian:11.8-slim\n",
    "     Second container volume mount:\n",
    "       volumeMounts:\n",
    "       - name: html\n",
    "         mountPath: /html\n",
    "       command: [\"/bin/sh\", \"-c\"]\n",
    "       args:\n",
    "       - while true; do date >> /html/index.html; sleep 60; \n",
    "         done;\n",
    "```\n",
    "    \n",
    "(Optionally, add resource limits.)\n",
    "\n",
    "For help in creating this pod definition file, see the Solutions subfolder.\n"
   ]
  },
  {
   "cell_type": "markdown",
   "metadata": {},
   "source": [
    "\n",
    "<details>\n",
    "<summary>\n",
    "Solution\n",
    "</summary>\n",
    "\n",
    "[Solution](./Solutions/exercise2task4.yaml)\n",
    "\n"
   ]
  },
  {
   "cell_type": "markdown",
   "metadata": {},
   "source": [
    "\n",
    "If you want to monitor the process, open another terminal on your jumphost ```CTRL+` ```\n",
    "\n",
    "and run the following command \n",
    "\n",
    "(and pay attention to the READY column):\n",
    "\n"
   ]
  },
  {
   "cell_type": "raw",
   "metadata": {
    "vscode": {
     "languageId": "raw"
    }
   },
   "source": [
    "\n",
    "watch kubectl get pods -n default\n"
   ]
  },
  {
   "cell_type": "markdown",
   "metadata": {},
   "source": [
    "---"
   ]
  },
  {
   "cell_type": "markdown",
   "metadata": {},
   "source": [
    "Instantiate the pod:\n"
   ]
  },
  {
   "cell_type": "code",
   "execution_count": null,
   "metadata": {
    "vscode": {
     "languageId": "shellscript"
    }
   },
   "outputs": [],
   "source": [
    "kubectl apply -f exercise2task4.yaml\n"
   ]
  },
  {
   "cell_type": "markdown",
   "metadata": {},
   "source": [
    "---"
   ]
  },
  {
   "cell_type": "markdown",
   "metadata": {},
   "source": [
    "After you create the pod, check the detailed output:\n"
   ]
  },
  {
   "cell_type": "code",
   "execution_count": null,
   "metadata": {
    "vscode": {
     "languageId": "shellscript"
    }
   },
   "outputs": [],
   "source": [
    "kubectl describe pod multi\n"
   ]
  },
  {
   "cell_type": "markdown",
   "metadata": {},
   "source": [
    "---"
   ]
  },
  {
   "cell_type": "markdown",
   "metadata": {},
   "source": [
    "Check that the backend resource is accessible:\n"
   ]
  },
  {
   "cell_type": "code",
   "execution_count": null,
   "metadata": {
    "vscode": {
     "languageId": "shellscript"
    }
   },
   "outputs": [],
   "source": [
    "kubectl exec multi -c backend -- /bin/cat /html/index.html\n"
   ]
  },
  {
   "cell_type": "markdown",
   "metadata": {},
   "source": [
    "---"
   ]
  },
  {
   "cell_type": "markdown",
   "metadata": {},
   "source": [
    "Check that the frontend resource is accessible:\n"
   ]
  },
  {
   "cell_type": "code",
   "execution_count": null,
   "metadata": {
    "vscode": {
     "languageId": "shellscript"
    }
   },
   "outputs": [],
   "source": [
    "kubectl exec multi -c frontend -- /bin/cat /usr/share/nginx/html/index.html\n"
   ]
  },
  {
   "cell_type": "markdown",
   "metadata": {},
   "source": [
    "**Do not delete this pod because you use it in the next task.**"
   ]
  },
  {
   "cell_type": "markdown",
   "metadata": {},
   "source": [
    "---"
   ]
  },
  {
   "cell_type": "markdown",
   "metadata": {},
   "source": [
    "##### Task 5: Create a Service for the Multicontainer Pod\n",
    "\n",
    "In this task, you provide access between the two pods that you already configured.\n"
   ]
  },
  {
   "cell_type": "markdown",
   "metadata": {},
   "source": [
    "Create a YAML file called **exercise2task5.yaml** that exposes a port from the\n",
    "**exercise2task4 pod** outside of Kubernetes. \n",
    "\n",
    "This type is called a **NodePort** service.\n",
    "\n",
    "```yaml\n",
    "   - Service name: multi-service\n",
    "   - Namespace: default\n",
    "   - Type: NodePort\n",
    "   - Target Port: 80\n",
    "   - Port: 80\n",
    "   - Selector: app: webapp\n",
    "\n",
    "```\n",
    "\n",
    "See the Solutions subfolder if you have any problems.\n",
    "\n"
   ]
  },
  {
   "cell_type": "markdown",
   "metadata": {},
   "source": [
    "\n",
    "<details>\n",
    "<summary>\n",
    "Solution\n",
    "</summary>\n",
    "\n",
    "[Solution](./Solutions/exercise2task5.yaml)\n",
    "\n"
   ]
  },
  {
   "cell_type": "markdown",
   "metadata": {},
   "source": [
    "---"
   ]
  },
  {
   "cell_type": "markdown",
   "metadata": {},
   "source": [
    "\n",
    "Send the file to the scheduler to create your container and pod:\n"
   ]
  },
  {
   "cell_type": "code",
   "execution_count": null,
   "metadata": {
    "vscode": {
     "languageId": "shellscript"
    }
   },
   "outputs": [],
   "source": [
    "\n",
    "kubectl create -f ./Solutions/exercise2task5.yaml\n"
   ]
  },
  {
   "cell_type": "markdown",
   "metadata": {},
   "source": [
    "---"
   ]
  },
  {
   "cell_type": "markdown",
   "metadata": {},
   "source": [
    "\n",
    "Check that your service is visible:\n"
   ]
  },
  {
   "cell_type": "code",
   "execution_count": null,
   "metadata": {
    "vscode": {
     "languageId": "shellscript"
    }
   },
   "outputs": [],
   "source": [
    "kubectl get services\n"
   ]
  },
  {
   "cell_type": "markdown",
   "metadata": {},
   "source": [
    "---"
   ]
  },
  {
   "cell_type": "markdown",
   "metadata": {},
   "source": [
    "Verify the NodePort configuration:\n"
   ]
  },
  {
   "cell_type": "code",
   "execution_count": null,
   "metadata": {
    "vscode": {
     "languageId": "shellscript"
    }
   },
   "outputs": [],
   "source": [
    "kubectl describe services multi2\n"
   ]
  },
  {
   "cell_type": "markdown",
   "metadata": {},
   "source": [
    "---"
   ]
  },
  {
   "cell_type": "markdown",
   "metadata": {},
   "source": [
    "Record the exposed NodePort listed in the **describe** output in the cell below.\n",
    "\n",
    "Then, Execute the cell below to assign the value to $NodePort\n"
   ]
  },
  {
   "cell_type": "code",
   "execution_count": null,
   "metadata": {
    "vscode": {
     "languageId": "shellscript"
    }
   },
   "outputs": [],
   "source": [
    "NodePort=30800"
   ]
  },
  {
   "cell_type": "markdown",
   "metadata": {},
   "source": [
    "Open a browser and try to connect to a node by using the NodePort that you received in the\n",
    "previous step:\n"
   ]
  },
  {
   "cell_type": "markdown",
   "metadata": {},
   "source": [
    "http://[any-node-ip-address-in-the-k8s-cluster]:3[xxxxx]  \n",
    "\n",
    "\n",
    "Edit the cell below to replace [any-node-ip-address-in-the-k8s-cluster] with the actual ip address of one of the nodes and the NodePort number (starting with 3). You can then `CTRL Click` to open the url\n"
   ]
  },
  {
   "cell_type": "code",
   "execution_count": null,
   "metadata": {
    "vscode": {
     "languageId": "shellscript"
    }
   },
   "outputs": [],
   "source": [
    "\n",
    "http://[any-node-ip-address-in-the-k8s-cluster]:3[xxxxx]\n"
   ]
  },
  {
   "cell_type": "code",
   "execution_count": null,
   "metadata": {
    "vscode": {
     "languageId": "shellscript"
    }
   },
   "outputs": [],
   "source": [
    "\n",
    "echo http://kubwor1-1:$NodePort\n"
   ]
  },
  {
   "cell_type": "markdown",
   "metadata": {},
   "source": [
    "Answer the following question:  \n",
    "\n",
    "How does the service know that it needs to route the http request to the multi pod?\n",
    "\n"
   ]
  },
  {
   "cell_type": "raw",
   "metadata": {
    "vscode": {
     "languageId": "raw"
    }
   },
   "source": []
  },
  {
   "cell_type": "markdown",
   "metadata": {},
   "source": [
    "---"
   ]
  },
  {
   "cell_type": "markdown",
   "metadata": {},
   "source": [
    "Delete your service:\n"
   ]
  },
  {
   "cell_type": "code",
   "execution_count": null,
   "metadata": {
    "vscode": {
     "languageId": "shellscript"
    }
   },
   "outputs": [],
   "source": [
    "kubectl delete -f exercise2task5.yaml\n"
   ]
  },
  {
   "cell_type": "markdown",
   "metadata": {},
   "source": [
    "---"
   ]
  },
  {
   "cell_type": "markdown",
   "metadata": {},
   "source": [
    "Verify that the deletion was successful:\n"
   ]
  },
  {
   "cell_type": "code",
   "execution_count": null,
   "metadata": {
    "vscode": {
     "languageId": "shellscript"
    }
   },
   "outputs": [],
   "source": [
    "kubectl get services\n"
   ]
  },
  {
   "cell_type": "markdown",
   "metadata": {},
   "source": [
    "---"
   ]
  },
  {
   "cell_type": "markdown",
   "metadata": {},
   "source": [
    "After your tests succeed, delete the multicontainer pod:\n"
   ]
  },
  {
   "cell_type": "code",
   "execution_count": null,
   "metadata": {
    "vscode": {
     "languageId": "shellscript"
    }
   },
   "outputs": [],
   "source": [
    "kubectl delete pod multi"
   ]
  },
  {
   "cell_type": "markdown",
   "metadata": {},
   "source": [
    "---"
   ]
  },
  {
   "cell_type": "markdown",
   "metadata": {},
   "source": [
    "##### Task 6: Use Imperative Commands to Create a Pod and a Service\n",
    "\n",
    "Previously, you created pods and services by using declarative methods. \n",
    "\n",
    "You can also quickly create these objects by using single commands. \n",
    "\n",
    "In this task, try to perform all the steps in your IDE’s terminal window.\n"
   ]
  },
  {
   "cell_type": "markdown",
   "metadata": {},
   "source": [
    "In your IDE’s terminal window, navigate to your repository’s location and then to the Exercise 2\n",
    "folder. \n",
    "\n",
    "You can also execute the code in the Code Cells\n"
   ]
  },
  {
   "cell_type": "code",
   "execution_count": null,
   "metadata": {
    "vscode": {
     "languageId": "shellscript"
    }
   },
   "outputs": [],
   "source": [
    "\n",
    "cd ~/Repos/STRSW-ILT-KA/Exercise\\ 2\n"
   ]
  },
  {
   "cell_type": "markdown",
   "metadata": {},
   "source": [
    "\n",
    "In your IDE’s terminal window, create a pod definition by using imperative commands:\n"
   ]
  },
  {
   "cell_type": "code",
   "execution_count": null,
   "metadata": {
    "vscode": {
     "languageId": "shellscript"
    }
   },
   "outputs": [],
   "source": [
    "kubectl run redis --image=redis123 --dry-run=client -o yaml > exercise2task6.yaml\n"
   ]
  },
  {
   "cell_type": "markdown",
   "metadata": {},
   "source": [
    "Open the pod definition in your IDE.\n",
    "\n",
    "[exercise2task6.yaml](./exercise2task6.yaml)"
   ]
  },
  {
   "cell_type": "markdown",
   "metadata": {},
   "source": [
    "---"
   ]
  },
  {
   "cell_type": "markdown",
   "metadata": {},
   "source": [
    "The image **redis123** does not exist. \n",
    "\n",
    "Change the image from **redis123** to **redis:7.2.3**."
   ]
  },
  {
   "cell_type": "raw",
   "metadata": {
    "vscode": {
     "languageId": "raw"
    }
   },
   "source": [
    "redis:7.2.3"
   ]
  },
  {
   "cell_type": "markdown",
   "metadata": {},
   "source": [
    "---"
   ]
  },
  {
   "cell_type": "markdown",
   "metadata": {},
   "source": [
    "Remove the created timestamp key-value pair.\n"
   ]
  },
  {
   "cell_type": "markdown",
   "metadata": {},
   "source": [
    "Save the updated pod definition.\n"
   ]
  },
  {
   "cell_type": "markdown",
   "metadata": {},
   "source": [
    "---"
   ]
  },
  {
   "cell_type": "markdown",
   "metadata": {},
   "source": [
    "Create the pod by using the pod definition file that you created in the previous step:\n"
   ]
  },
  {
   "cell_type": "code",
   "execution_count": null,
   "metadata": {
    "vscode": {
     "languageId": "shellscript"
    }
   },
   "outputs": [],
   "source": [
    "kubectl create -f exercise2task6.yaml\n"
   ]
  },
  {
   "cell_type": "markdown",
   "metadata": {},
   "source": [
    "---"
   ]
  },
  {
   "cell_type": "markdown",
   "metadata": {},
   "source": [
    "Verify that the pod is running.\n"
   ]
  },
  {
   "cell_type": "code",
   "execution_count": null,
   "metadata": {
    "vscode": {
     "languageId": "shellscript"
    }
   },
   "outputs": [],
   "source": [
    "kubectl get pods"
   ]
  },
  {
   "cell_type": "markdown",
   "metadata": {},
   "source": [
    "---"
   ]
  },
  {
   "cell_type": "markdown",
   "metadata": {},
   "source": [
    "Delete the pod.\n"
   ]
  },
  {
   "cell_type": "code",
   "execution_count": null,
   "metadata": {
    "vscode": {
     "languageId": "shellscript"
    }
   },
   "outputs": [],
   "source": [
    "kubectl delete pod redis"
   ]
  },
  {
   "cell_type": "markdown",
   "metadata": {},
   "source": [
    "---"
   ]
  },
  {
   "cell_type": "markdown",
   "metadata": {},
   "source": [
    "Create another pod by using an imperative command that includes **label tier=front** and\n",
    "**port 80**.\n"
   ]
  },
  {
   "cell_type": "code",
   "execution_count": null,
   "metadata": {
    "vscode": {
     "languageId": "shellscript"
    }
   },
   "outputs": [],
   "source": [
    "kubectl run webapp --image=httpd:alpine3.19 --labels tier=front --port 80\n"
   ]
  },
  {
   "cell_type": "markdown",
   "metadata": {},
   "source": [
    "---"
   ]
  },
  {
   "cell_type": "markdown",
   "metadata": {},
   "source": [
    "Describe the pod and check the logs:\n"
   ]
  },
  {
   "cell_type": "code",
   "execution_count": null,
   "metadata": {
    "vscode": {
     "languageId": "shellscript"
    }
   },
   "outputs": [],
   "source": [
    "kubectl describe pod webapp\n"
   ]
  },
  {
   "cell_type": "markdown",
   "metadata": {},
   "source": [
    "---"
   ]
  },
  {
   "cell_type": "markdown",
   "metadata": {},
   "source": [
    "Create a service that exposes target port 80 by using imperative commands:\n"
   ]
  },
  {
   "cell_type": "code",
   "execution_count": null,
   "metadata": {
    "vscode": {
     "languageId": "shellscript"
    }
   },
   "outputs": [],
   "source": [
    "kubectl expose pod webapp --name webapp-service --port 80 --target-port 80 --type NodePort\n"
   ]
  },
  {
   "cell_type": "markdown",
   "metadata": {},
   "source": [
    "---"
   ]
  },
  {
   "cell_type": "markdown",
   "metadata": {},
   "source": [
    "Review the created objects (and identify the NodePort TCP port that was used):\n"
   ]
  },
  {
   "cell_type": "code",
   "execution_count": null,
   "metadata": {
    "vscode": {
     "languageId": "shellscript"
    }
   },
   "outputs": [],
   "source": [
    "kubectl describe service webapp-service\n"
   ]
  },
  {
   "cell_type": "code",
   "execution_count": null,
   "metadata": {
    "vscode": {
     "languageId": "shellscript"
    }
   },
   "outputs": [],
   "source": [
    "NodePort=30381"
   ]
  },
  {
   "cell_type": "markdown",
   "metadata": {},
   "source": [
    "---"
   ]
  },
  {
   "cell_type": "markdown",
   "metadata": {},
   "source": [
    "Identify the IP address of a node in the cluster:\n"
   ]
  },
  {
   "cell_type": "code",
   "execution_count": null,
   "metadata": {
    "vscode": {
     "languageId": "shellscript"
    }
   },
   "outputs": [],
   "source": [
    "kubectl get nodes -o wide\n"
   ]
  },
  {
   "cell_type": "markdown",
   "metadata": {},
   "source": [
    "---"
   ]
  },
  {
   "cell_type": "markdown",
   "metadata": {},
   "source": [
    "Access the service from an IP of a node and NodePort:\n"
   ]
  },
  {
   "cell_type": "markdown",
   "metadata": {},
   "source": [
    "`http://<NodeIP>:<NodePort_TCP_PORT>`\n",
    "\n",
    "Enter the Node IP address in the cell below and execute it, by clicking on the Play button, or `CTRL+ENTER`\n"
   ]
  },
  {
   "cell_type": "code",
   "execution_count": null,
   "metadata": {
    "vscode": {
     "languageId": "shellscript"
    }
   },
   "outputs": [],
   "source": [
    "NodeIP=192.168.0.62"
   ]
  },
  {
   "cell_type": "markdown",
   "metadata": {},
   "source": [
    "Execute the next cell to generate the URL, then click on it to open the page in a browser"
   ]
  },
  {
   "cell_type": "code",
   "execution_count": null,
   "metadata": {
    "vscode": {
     "languageId": "shellscript"
    }
   },
   "outputs": [],
   "source": [
    "echo http://$NodeIP:$NodePort"
   ]
  },
  {
   "cell_type": "markdown",
   "metadata": {},
   "source": [
    "\n",
    "If you did not receive a response from the server, you did not properly set up environment.\n"
   ]
  },
  {
   "cell_type": "markdown",
   "metadata": {},
   "source": [
    "---"
   ]
  },
  {
   "cell_type": "markdown",
   "metadata": {},
   "source": [
    "\n",
    "Remove all the objects:\n"
   ]
  },
  {
   "cell_type": "code",
   "execution_count": null,
   "metadata": {
    "vscode": {
     "languageId": "shellscript"
    }
   },
   "outputs": [],
   "source": [
    "kubectl delete service webapp-service\n",
    "kubectl delete pod webapp\n"
   ]
  },
  {
   "cell_type": "markdown",
   "metadata": {},
   "source": [
    "---\n",
    "---"
   ]
  },
  {
   "cell_type": "markdown",
   "metadata": {},
   "source": [
    "\n",
    "##### Task 7: Using Labels and Selectors\n",
    "\n",
    "This activity demonstrates how to deploy preconfigured pods within the Kubernetes cluster and how to\n",
    "delete a pod.\n",
    "\n",
    "Do not worry about the object types. \n",
    "\n",
    "You see more object types in a later module.\n",
    "\n"
   ]
  },
  {
   "cell_type": "markdown",
   "metadata": {},
   "source": [
    "---"
   ]
  },
  {
   "cell_type": "markdown",
   "metadata": {},
   "source": [
    "\n",
    "Investigate [exercise2task7.yaml](./exercise2task7.yaml) and notice that this single file contains several definitions that are separated by “---\" lines. \n",
    "\n",
    "Do not worry about the deployment type for now.\n",
    "\n",
    "<details>\n",
    "<summary>\n",
    "exercise2task7.yaml\n",
    "</summary>\n",
    "\n",
    "[exercise2task7.yaml](./exercise2task7.yaml)\n",
    "\n",
    "```yaml\n",
    "apiVersion: apps/v1\n",
    "kind: Deployment\n",
    "metadata:\n",
    "  name: app-1\n",
    "  labels:\n",
    "    app: app-1\n",
    "spec:\n",
    "  replicas: 3\n",
    "  revisionHistoryLimit: 3\n",
    "  selector:\n",
    "    matchLabels:\n",
    "      bu: finance\n",
    "      app: nginx\n",
    "      tier: prod\n",
    "  strategy:\n",
    "    type: RollingUpdate\n",
    "    rollingUpdate:\n",
    "      maxSurge: 1\n",
    "      maxUnavailable: 0\n",
    "  template:\n",
    "    metadata:\n",
    "      labels:\n",
    "        bu: finance\n",
    "        app: nginx\n",
    "        tier: prod\n",
    "    spec:\n",
    "      containers:\n",
    "      - name: nginx\n",
    "        image: nginx:1.25-alpine-slim\n",
    "        imagePullPolicy: IfNotPresent\n",
    "        ports:\n",
    "        - containerPort: 80\n",
    "        resources: \n",
    "          requests:\n",
    "            memory: \"64Mi\"\n",
    "            cpu: \"250m\"\n",
    "          limits:\n",
    "            memory: \"128Mi\"\n",
    "            cpu: \"500m\"\n",
    "---\n",
    "apiVersion: apps/v1\n",
    "kind: Deployment\n",
    "metadata:\n",
    "  name: app-2\n",
    "  labels:\n",
    "    app: app-2\n",
    "spec:\n",
    "  replicas: 3\n",
    "  revisionHistoryLimit: 3\n",
    "  selector:\n",
    "    matchLabels:\n",
    "      bu: it\n",
    "      app: nginx\n",
    "      tier: dev\n",
    "  strategy:\n",
    "    type: RollingUpdate\n",
    "    rollingUpdate:\n",
    "      maxSurge: 1\n",
    "      maxUnavailable: 0\n",
    "  template:\n",
    "    metadata:\n",
    "      labels:\n",
    "        bu: it\n",
    "        app: nginx\n",
    "        tier: dev\n",
    "    spec:\n",
    "      containers:\n",
    "      - name: nginx\n",
    "        image: nginx:1.25-alpine-slim\n",
    "        imagePullPolicy: IfNotPresent\n",
    "        ports:\n",
    "        - containerPort: 80\n",
    "        resources: \n",
    "          requests:\n",
    "            memory: \"64Mi\"\n",
    "            cpu: \"250m\"\n",
    "          limits:\n",
    "            memory: \"128Mi\"\n",
    "            cpu: \"500m\"\n",
    "---\n",
    "apiVersion: v1\n",
    "kind: Service\n",
    "metadata:\n",
    "  name: app-1\n",
    "  labels:\n",
    "    app: app-1\n",
    "spec:\n",
    "  ports:\n",
    "    - port: 80\n",
    "      targetPort: 9876\n",
    "  selector:\n",
    "      bu: finance\n",
    "      app: nginx\n",
    "      tier: prod\n",
    "---\n",
    "apiVersion: v1\n",
    "kind: Service\n",
    "metadata:\n",
    "  name: app-2\n",
    "  labels:\n",
    "    app: app-2\n",
    "spec:\n",
    "  ports:\n",
    "    - port: 80\n",
    "      targetPort: 9876\n",
    "  selector:\n",
    "      bu: it\n",
    "      app: nginx\n",
    "      tier: dev\n",
    "\n",
    "```"
   ]
  },
  {
   "cell_type": "markdown",
   "metadata": {},
   "source": [
    "---"
   ]
  },
  {
   "cell_type": "markdown",
   "metadata": {},
   "source": [
    "\n",
    "Create the objects:\n"
   ]
  },
  {
   "cell_type": "code",
   "execution_count": null,
   "metadata": {
    "vscode": {
     "languageId": "shellscript"
    }
   },
   "outputs": [],
   "source": [
    "kubectl apply -f exercise2task7.yaml\n"
   ]
  },
  {
   "cell_type": "markdown",
   "metadata": {},
   "source": [
    "---"
   ]
  },
  {
   "cell_type": "markdown",
   "metadata": {},
   "source": [
    "List the labels that you created on the pods:\n"
   ]
  },
  {
   "cell_type": "code",
   "execution_count": null,
   "metadata": {
    "vscode": {
     "languageId": "shellscript"
    }
   },
   "outputs": [],
   "source": [
    "kubectl get pods --show-labels\n"
   ]
  },
  {
   "cell_type": "markdown",
   "metadata": {},
   "source": [
    "---"
   ]
  },
  {
   "cell_type": "markdown",
   "metadata": {},
   "source": [
    "Use an **app-1** and **app-2** service to investigate how the app-1 and app-2 pods are exposed.\n",
    "\n"
   ]
  },
  {
   "cell_type": "code",
   "execution_count": null,
   "metadata": {
    "vscode": {
     "languageId": "shellscript"
    }
   },
   "outputs": [],
   "source": [
    "kubectl describe service app-1\n"
   ]
  },
  {
   "cell_type": "code",
   "execution_count": null,
   "metadata": {
    "vscode": {
     "languageId": "shellscript"
    }
   },
   "outputs": [],
   "source": [
    "kubectl describe service app-2\n"
   ]
  },
  {
   "cell_type": "markdown",
   "metadata": {},
   "source": [
    "---"
   ]
  },
  {
   "cell_type": "markdown",
   "metadata": {},
   "source": [
    "Remove all the objects:\n"
   ]
  },
  {
   "cell_type": "code",
   "execution_count": null,
   "metadata": {
    "vscode": {
     "languageId": "shellscript"
    }
   },
   "outputs": [],
   "source": [
    "kubectl delete deployment app-1 app-2\n",
    "kubectl delete service app-1 app-2\n"
   ]
  },
  {
   "cell_type": "markdown",
   "metadata": {},
   "source": [
    "Notice that the [exercise2task7b.yaml](./exercise2task7b.yaml) file has an error.\n",
    "\n",
    "Fix the error, and save the file as `exercise2task7bmod.yaml`\n",
    "and deploy the ReplicaSet by running \n",
    "\n",
    "`kubectl apply -f exercise2task7bmod.yaml`.\n",
    "\n",
    "<details>\n",
    "<summary>exercise2task7b.yaml\n",
    "</summary>\n",
    "\n",
    "[exercise2task7b.yaml](./exercise2task7b.yaml)\n",
    "\n",
    "```yaml\n",
    "apiVersion: apps/v1\n",
    "kind: ReplicaSet\n",
    "metadata:\n",
    "  name: app-3\n",
    "spec:\n",
    "  replicas: 2\n",
    "  selector:\n",
    "    matchLabels:\n",
    "      tier: frontend\n",
    "  template:\n",
    "    metadata:\n",
    "      labels:\n",
    "        tier: nginx\n",
    "    spec:\n",
    "      containers:\n",
    "      - name: nginx\n",
    "        image: nginx:1.25-alpine-slim\n",
    "        imagePullPolicy: IfNotPresent\n",
    "\n",
    "```"
   ]
  },
  {
   "cell_type": "code",
   "execution_count": null,
   "metadata": {
    "vscode": {
     "languageId": "shellscript"
    }
   },
   "outputs": [],
   "source": [
    "kubectl apply -f exercise2task7bmod.yaml"
   ]
  },
  {
   "cell_type": "code",
   "execution_count": null,
   "metadata": {
    "vscode": {
     "languageId": "shellscript"
    }
   },
   "outputs": [],
   "source": [
    "kubectl get rs"
   ]
  },
  {
   "cell_type": "code",
   "execution_count": null,
   "metadata": {
    "vscode": {
     "languageId": "shellscript"
    }
   },
   "outputs": [],
   "source": [
    "kubectl get pods"
   ]
  },
  {
   "cell_type": "markdown",
   "metadata": {},
   "source": [
    "---"
   ]
  },
  {
   "cell_type": "markdown",
   "metadata": {},
   "source": [
    "Clean up the resources:\n"
   ]
  },
  {
   "cell_type": "code",
   "execution_count": null,
   "metadata": {
    "vscode": {
     "languageId": "shellscript"
    }
   },
   "outputs": [],
   "source": [
    "kubectl delete rs app-3\n"
   ]
  },
  {
   "cell_type": "markdown",
   "metadata": {},
   "source": [
    "Notice that the Kubernetes extension in your IDE does not have a **ReplicaSet** workload category, so you must delete the ReplicaSet through the CLI.\n"
   ]
  },
  {
   "cell_type": "markdown",
   "metadata": {},
   "source": [
    "---"
   ]
  },
  {
   "cell_type": "markdown",
   "metadata": {},
   "source": [
    "\n",
    "End of exercise\n"
   ]
  },
  {
   "cell_type": "markdown",
   "metadata": {},
   "source": [
    "---\n",
    "---"
   ]
  }
 ],
 "metadata": {
  "kernelspec": {
   "display_name": "Bash",
   "language": "bash",
   "name": "bash"
  },
  "language_info": {
   "codemirror_mode": "shell",
   "file_extension": ".sh",
   "mimetype": "text/x-sh",
   "name": "bash"
  }
 },
 "nbformat": 4,
 "nbformat_minor": 2
}
